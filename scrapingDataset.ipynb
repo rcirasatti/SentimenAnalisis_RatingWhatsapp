{
 "cells": [
  {
   "metadata": {
    "ExecuteTime": {
     "end_time": "2025-04-09T07:33:29.497643Z",
     "start_time": "2025-04-09T07:27:35.523847Z"
    }
   },
   "cell_type": "code",
   "source": [
    "# Mengimpor pustaka google_play_scraper untuk mengakses ulasan dan informasi aplikasi dari Google Play Store.\n",
    "from google_play_scraper import app, reviews_all, Sort\n",
    "\n",
    "scrapreview = reviews_all(\n",
    "    'com.whatsapp',\n",
    "    lang='id',\n",
    "    country='id',\n",
    "    sleep_milliseconds=0,\n",
    "    sort=Sort.MOST_RELEVANT,\n",
    "    count=10000,\n",
    ")"
   ],
   "id": "6f23bc0413dc8a79",
   "outputs": [],
   "execution_count": 2
  },
  {
   "metadata": {
    "ExecuteTime": {
     "end_time": "2025-04-09T07:33:30.829800Z",
     "start_time": "2025-04-09T07:33:30.479310Z"
    }
   },
   "cell_type": "code",
   "source": [
    "import pandas as pd\n",
    "# Menyimpan ulasan dalam file CSV\n",
    "import csv\n",
    "\n",
    "# Simpan ke DataFrame\n",
    "df = pd.DataFrame(scrapreview)\n",
    "df = df[['content']]\n",
    "df.to_csv('ulasan_whatsapp.csv', index=False)\n",
    "print(\"Pengambilan data selesai. Data disimpan ke 'ulasan_whatsapp.csv'.\")"
   ],
   "id": "b996e5e8381d0f2e",
   "outputs": [
    {
     "name": "stdout",
     "output_type": "stream",
     "text": [
      "Pengambilan data selesai. Data disimpan ke 'ulasan_whatsapp.csv'.\n"
     ]
    }
   ],
   "execution_count": 6
  },
  {
   "metadata": {
    "ExecuteTime": {
     "end_time": "2025-04-09T07:33:31.040897Z",
     "start_time": "2025-04-09T07:33:30.857917Z"
    }
   },
   "cell_type": "code",
   "source": [
    "df = pd.read_csv('ulasan_whatsapp.csv')\n",
    "df.head()"
   ],
   "id": "985a27e9370b5374",
   "outputs": [
    {
     "data": {
      "text/plain": [
       "                                             content\n",
       "0  Saya sudah berapa kali upgrade apk ini, tapi t...\n",
       "1  pengembang yg songong di bilang ga ada gunanya...\n",
       "2  Tolong segera update yang terbaru lagi. Karena...\n",
       "3  Baru di update,Tetap sama hasilnya. Bug Hijau ...\n",
       "4  Untuk Saat Ini WhatsApp Udah Lebih Bagus Dari ..."
      ],
      "text/html": [
       "<div>\n",
       "<style scoped>\n",
       "    .dataframe tbody tr th:only-of-type {\n",
       "        vertical-align: middle;\n",
       "    }\n",
       "\n",
       "    .dataframe tbody tr th {\n",
       "        vertical-align: top;\n",
       "    }\n",
       "\n",
       "    .dataframe thead th {\n",
       "        text-align: right;\n",
       "    }\n",
       "</style>\n",
       "<table border=\"1\" class=\"dataframe\">\n",
       "  <thead>\n",
       "    <tr style=\"text-align: right;\">\n",
       "      <th></th>\n",
       "      <th>content</th>\n",
       "    </tr>\n",
       "  </thead>\n",
       "  <tbody>\n",
       "    <tr>\n",
       "      <th>0</th>\n",
       "      <td>Saya sudah berapa kali upgrade apk ini, tapi t...</td>\n",
       "    </tr>\n",
       "    <tr>\n",
       "      <th>1</th>\n",
       "      <td>pengembang yg songong di bilang ga ada gunanya...</td>\n",
       "    </tr>\n",
       "    <tr>\n",
       "      <th>2</th>\n",
       "      <td>Tolong segera update yang terbaru lagi. Karena...</td>\n",
       "    </tr>\n",
       "    <tr>\n",
       "      <th>3</th>\n",
       "      <td>Baru di update,Tetap sama hasilnya. Bug Hijau ...</td>\n",
       "    </tr>\n",
       "    <tr>\n",
       "      <th>4</th>\n",
       "      <td>Untuk Saat Ini WhatsApp Udah Lebih Bagus Dari ...</td>\n",
       "    </tr>\n",
       "  </tbody>\n",
       "</table>\n",
       "</div>"
      ]
     },
     "execution_count": 7,
     "metadata": {},
     "output_type": "execute_result"
    }
   ],
   "execution_count": 7
  }
 ],
 "metadata": {
  "kernelspec": {
   "name": "python3",
   "language": "python",
   "display_name": "Python 3 (ipykernel)"
  }
 },
 "nbformat": 5,
 "nbformat_minor": 9
}
